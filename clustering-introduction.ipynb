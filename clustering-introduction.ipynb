{
 "cells": [
  {
   "cell_type": "code",
   "execution_count": 1,
   "metadata": {},
   "outputs": [],
   "source": [
    "from scipy.spatial import distance"
   ]
  },
  {
   "cell_type": "code",
   "execution_count": 3,
   "metadata": {},
   "outputs": [
    {
     "data": {
      "text/plain": [
       "9.746794344808963"
      ]
     },
     "execution_count": 3,
     "metadata": {},
     "output_type": "execute_result"
    }
   ],
   "source": [
    "a = (0, 3, 4, 5)\n",
    "b = (7, 6, 3, -1)\n",
    "d1 = distance.euclidean(a, b)\n",
    "d1"
   ]
  },
  {
   "cell_type": "code",
   "execution_count": 6,
   "metadata": {},
   "outputs": [
    {
     "data": {
      "text/plain": [
       "17"
      ]
     },
     "execution_count": 6,
     "metadata": {},
     "output_type": "execute_result"
    }
   ],
   "source": [
    "d2 = distance.cityblock(a, b)\n",
    "d2"
   ]
  },
  {
   "cell_type": "code",
   "execution_count": 8,
   "metadata": {},
   "outputs": [
    {
     "data": {
      "text/plain": [
       "7"
      ]
     },
     "execution_count": 8,
     "metadata": {},
     "output_type": "execute_result"
    }
   ],
   "source": [
    "d3 = distance.chebyshev(a, b)\n",
    "d3"
   ]
  },
  {
   "cell_type": "code",
   "execution_count": 10,
   "metadata": {},
   "outputs": [
    {
     "data": {
      "text/plain": [
       "9.746794344808963"
      ]
     },
     "execution_count": 10,
     "metadata": {},
     "output_type": "execute_result"
    }
   ],
   "source": [
    "d4 = distance.minkowski(a, b)\n",
    "d4"
   ]
  },
  {
   "cell_type": "code",
   "execution_count": 11,
   "metadata": {},
   "outputs": [
    {
     "data": {
      "text/plain": [
       "0.6666666666666666"
      ]
     },
     "execution_count": 11,
     "metadata": {},
     "output_type": "execute_result"
    }
   ],
   "source": [
    "import numpy as np\n",
    "from sklearn.metrics import jaccard_similarity_score\n",
    "\n",
    "a = [0, 2, 5]\n",
    "b = [0, 2, 3]\n",
    "out = jaccard_similarity_score(a, b)\n",
    "out"
   ]
  },
  {
   "cell_type": "code",
   "execution_count": 12,
   "metadata": {},
   "outputs": [
    {
     "data": {
      "text/plain": [
       "0.33333333333333337"
      ]
     },
     "execution_count": 12,
     "metadata": {},
     "output_type": "execute_result"
    }
   ],
   "source": [
    "1 - out"
   ]
  },
  {
   "cell_type": "code",
   "execution_count": 13,
   "metadata": {},
   "outputs": [
    {
     "data": {
      "text/plain": [
       "0.5"
      ]
     },
     "execution_count": 13,
     "metadata": {},
     "output_type": "execute_result"
    }
   ],
   "source": [
    "d5 = distance.jaccard(a, b)\n",
    "d5"
   ]
  },
  {
   "cell_type": "markdown",
   "metadata": {},
   "source": [
    "# Dendogram_Hierarchial"
   ]
  },
  {
   "cell_type": "code",
   "execution_count": 2,
   "metadata": {},
   "outputs": [],
   "source": [
    "from scipy.cluster.hierarchy import dendrogram, linkage"
   ]
  },
  {
   "cell_type": "code",
   "execution_count": 22,
   "metadata": {},
   "outputs": [
    {
     "data": {
      "text/plain": [
       "{'icoord': [[15.0, 15.0, 25.0, 25.0],\n",
       "  [5.0, 5.0, 20.0, 20.0],\n",
       "  [45.0, 45.0, 55.0, 55.0],\n",
       "  [35.0, 35.0, 50.0, 50.0],\n",
       "  [12.5, 12.5, 42.5, 42.5]],\n",
       " 'dcoord': [[0.0, 2.0, 2.0, 0.0],\n",
       "  [0.0, 2.0, 2.0, 2.0],\n",
       "  [0.0, 2.0, 2.0, 0.0],\n",
       "  [0.0, 2.0, 2.0, 2.0],\n",
       "  [2.0, 3.0, 3.0, 2.0]],\n",
       " 'ivl': ['2', '0', '1', '5', '3', '4'],\n",
       " 'leaves': [2, 0, 1, 5, 3, 4],\n",
       " 'color_list': ['g', 'g', 'r', 'r', 'b']}"
      ]
     },
     "execution_count": 22,
     "metadata": {},
     "output_type": "execute_result"
    },
    {
     "data": {
      "image/png": "[encoded data removed]",
      "text/plain": [
       "<Figure size 432x288 with 1 Axes>"
      ]
     },
     "metadata": {
      "needs_background": "light"
     },
     "output_type": "display_data"
    }
   ],
   "source": [
    "data = [[1, 2], [1, 4], [1, 0], [4, 2], [4, 4], [4, 0]]\n",
    "Z = linkage(data, 'single') #types: single, complete, average, centroid, wards\n",
    "dendrogram(Z)"
   ]
  },
  {
   "cell_type": "code",
   "execution_count": 23,
   "metadata": {},
   "outputs": [
    {
     "data": {
      "text/plain": [
       "{'icoord': [[5.0, 5.0, 15.0, 15.0],\n",
       "  [25.0, 25.0, 35.0, 35.0],\n",
       "  [45.0, 45.0, 55.0, 55.0],\n",
       "  [30.0, 30.0, 50.0, 50.0],\n",
       "  [10.0, 10.0, 40.0, 40.0]],\n",
       " 'dcoord': [[0.0, 3.0, 3.0, 0.0],\n",
       "  [0.0, 2.0, 2.0, 0.0],\n",
       "  [0.0, 2.0, 2.0, 0.0],\n",
       "  [2.0, 3.605551275463989, 3.605551275463989, 2.0],\n",
       "  [3.0, 5.0, 5.0, 3.605551275463989]],\n",
       " 'ivl': ['2', '5', '0', '1', '3', '4'],\n",
       " 'leaves': [2, 5, 0, 1, 3, 4],\n",
       " 'color_list': ['g', 'r', 'c', 'b', 'b']}"
      ]
     },
     "execution_count": 23,
     "metadata": {},
     "output_type": "execute_result"
    },
    {
     "data": {
      "image/png": "[encoded data removed]",
      "text/plain": [
       "<Figure size 432x288 with 1 Axes>"
      ]
     },
     "metadata": {
      "needs_background": "light"
     },
     "output_type": "display_data"
    }
   ],
   "source": [
    "data = [[1, 2], [1, 4], [1, 0], [4, 2], [4, 4], [4, 0]]\n",
    "Z = linkage(data, 'complete')\n",
    "dendrogram(Z)"
   ]
  },
  {
   "cell_type": "code",
   "execution_count": 24,
   "metadata": {},
   "outputs": [
    {
     "data": {
      "text/plain": [
       "{'icoord': [[15.0, 15.0, 25.0, 25.0],\n",
       "  [5.0, 5.0, 20.0, 20.0],\n",
       "  [45.0, 45.0, 55.0, 55.0],\n",
       "  [35.0, 35.0, 50.0, 50.0],\n",
       "  [12.5, 12.5, 42.5, 42.5]],\n",
       " 'dcoord': [[0.0, 2.0, 2.0, 0.0],\n",
       "  [0.0, 3.0, 3.0, 2.0],\n",
       "  [0.0, 2.0, 2.0, 0.0],\n",
       "  [0.0, 3.0, 3.0, 2.0],\n",
       "  [3.0, 3.713578344650662, 3.713578344650662, 3.0]],\n",
       " 'ivl': ['2', '0', '1', '5', '3', '4'],\n",
       " 'leaves': [2, 0, 1, 5, 3, 4],\n",
       " 'color_list': ['g', 'b', 'r', 'b', 'b']}"
      ]
     },
     "execution_count": 24,
     "metadata": {},
     "output_type": "execute_result"
    },
    {
     "data": {
      "image/png": "[encoded data removed]",
      "text/plain": [
       "<Figure size 432x288 with 1 Axes>"
      ]
     },
     "metadata": {
      "needs_background": "light"
     },
     "output_type": "display_data"
    }
   ],
   "source": [
    "data = [[1, 2], [1, 4], [1, 0], [4, 2], [4, 4], [4, 0]]\n",
    "Z = linkage(data, 'average')\n",
    "dendrogram(Z)"
   ]
  },
  {
   "cell_type": "code",
   "execution_count": 25,
   "metadata": {},
   "outputs": [
    {
     "data": {
      "text/plain": [
       "{'icoord': [[15.0, 15.0, 25.0, 25.0],\n",
       "  [5.0, 5.0, 20.0, 20.0],\n",
       "  [45.0, 45.0, 55.0, 55.0],\n",
       "  [35.0, 35.0, 50.0, 50.0],\n",
       "  [12.5, 12.5, 42.5, 42.5]],\n",
       " 'dcoord': [[0.0, 2.0, 2.0, 0.0],\n",
       "  [0.0, 3.0, 3.0, 2.0],\n",
       "  [0.0, 2.0, 2.0, 0.0],\n",
       "  [0.0, 3.0, 3.0, 2.0],\n",
       "  [3.0, 3.0, 3.0, 3.0]],\n",
       " 'ivl': ['2', '0', '1', '5', '3', '4'],\n",
       " 'leaves': [2, 0, 1, 5, 3, 4],\n",
       " 'color_list': ['g', 'b', 'r', 'b', 'b']}"
      ]
     },
     "execution_count": 25,
     "metadata": {},
     "output_type": "execute_result"
    },
    {
     "data": {
      "image/png": "[encoded data removed]",
      "text/plain": [
       "<Figure size 432x288 with 1 Axes>"
      ]
     },
     "metadata": {
      "needs_background": "light"
     },
     "output_type": "display_data"
    }
   ],
   "source": [
    "data = [[1, 2], [1, 4], [1, 0], [4, 2], [4, 4], [4, 0]]\n",
    "Z = linkage(data, 'centroid')\n",
    "dendrogram(Z)"
   ]
  },
  {
   "cell_type": "code",
   "execution_count": 26,
   "metadata": {},
   "outputs": [
    {
     "data": {
      "text/plain": [
       "{'icoord': [[15.0, 15.0, 25.0, 25.0],\n",
       "  [5.0, 5.0, 20.0, 20.0],\n",
       "  [45.0, 45.0, 55.0, 55.0],\n",
       "  [35.0, 35.0, 50.0, 50.0],\n",
       "  [12.5, 12.5, 42.5, 42.5]],\n",
       " 'dcoord': [[0.0, 2.0, 2.0, 0.0],\n",
       "  [0.0, 3.4641016151377544, 3.4641016151377544, 2.0],\n",
       "  [0.0, 2.0, 2.0, 0.0],\n",
       "  [0.0, 3.4641016151377544, 3.4641016151377544, 2.0],\n",
       "  [3.4641016151377544,\n",
       "   5.196152422706632,\n",
       "   5.196152422706632,\n",
       "   3.4641016151377544]],\n",
       " 'ivl': ['2', '0', '1', '4', '3', '5'],\n",
       " 'leaves': [2, 0, 1, 4, 3, 5],\n",
       " 'color_list': ['g', 'g', 'r', 'r', 'b']}"
      ]
     },
     "execution_count": 26,
     "metadata": {},
     "output_type": "execute_result"
    },
    {
     "data": {
      "image/png": "[encoded data removed]",
      "text/plain": [
       "<Figure size 432x288 with 1 Axes>"
      ]
     },
     "metadata": {
      "needs_background": "light"
     },
     "output_type": "display_data"
    }
   ],
   "source": [
    "data = [[1, 2], [1, 4], [1, 0], [4, 2], [4, 4], [4, 0]]\n",
    "Z = linkage(data, 'ward')\n",
    "dendrogram(Z)"
   ]
  },
  {
   "cell_type": "markdown",
   "metadata": {},
   "source": [
    "## Working on Data_Set Visualization of Dendrogram"
   ]
  },
  {
   "cell_type": "code",
   "execution_count": 28,
   "metadata": {},
   "outputs": [],
   "source": [
    "import pandas as pd\n",
    "from matplotlib import pyplot as plt\n",
    "from scipy.cluster.hierarchy import dendrogram, linkage\n",
    "import numpy as np"
   ]
  },
  {
   "cell_type": "code",
   "execution_count": 29,
   "metadata": {},
   "outputs": [
    {
     "data": {
      "text/html": [
       "<div>\n",
       "<style scoped>\n",
       "    .dataframe tbody tr th:only-of-type {\n",
       "        vertical-align: middle;\n",
       "    }\n",
       "\n",
       "    .dataframe tbody tr th {\n",
       "        vertical-align: top;\n",
       "    }\n",
       "\n",
       "    .dataframe thead th {\n",
       "        text-align: right;\n",
       "    }\n",
       "</style>\n",
       "<table border=\"1\" class=\"dataframe\">\n",
       "  <thead>\n",
       "    <tr style=\"text-align: right;\">\n",
       "      <th></th>\n",
       "      <th>mpg</th>\n",
       "      <th>cyl</th>\n",
       "      <th>disp</th>\n",
       "      <th>hp</th>\n",
       "      <th>drat</th>\n",
       "      <th>wt</th>\n",
       "      <th>qsec</th>\n",
       "      <th>vs</th>\n",
       "      <th>am</th>\n",
       "      <th>gear</th>\n",
       "      <th>carb</th>\n",
       "    </tr>\n",
       "  </thead>\n",
       "  <tbody>\n",
       "    <tr>\n",
       "      <th>Mazda RX4</th>\n",
       "      <td>21.0</td>\n",
       "      <td>6</td>\n",
       "      <td>160.0</td>\n",
       "      <td>110</td>\n",
       "      <td>3.90</td>\n",
       "      <td>2.620</td>\n",
       "      <td>16.46</td>\n",
       "      <td>0</td>\n",
       "      <td>1</td>\n",
       "      <td>4</td>\n",
       "      <td>4</td>\n",
       "    </tr>\n",
       "    <tr>\n",
       "      <th>Mazda RX4 Wag</th>\n",
       "      <td>21.0</td>\n",
       "      <td>6</td>\n",
       "      <td>160.0</td>\n",
       "      <td>110</td>\n",
       "      <td>3.90</td>\n",
       "      <td>2.875</td>\n",
       "      <td>17.02</td>\n",
       "      <td>0</td>\n",
       "      <td>1</td>\n",
       "      <td>4</td>\n",
       "      <td>4</td>\n",
       "    </tr>\n",
       "    <tr>\n",
       "      <th>Datsun 710</th>\n",
       "      <td>22.8</td>\n",
       "      <td>4</td>\n",
       "      <td>108.0</td>\n",
       "      <td>93</td>\n",
       "      <td>3.85</td>\n",
       "      <td>2.320</td>\n",
       "      <td>18.61</td>\n",
       "      <td>1</td>\n",
       "      <td>1</td>\n",
       "      <td>4</td>\n",
       "      <td>1</td>\n",
       "    </tr>\n",
       "    <tr>\n",
       "      <th>Hornet 4 Drive</th>\n",
       "      <td>21.4</td>\n",
       "      <td>6</td>\n",
       "      <td>258.0</td>\n",
       "      <td>110</td>\n",
       "      <td>3.08</td>\n",
       "      <td>3.215</td>\n",
       "      <td>19.44</td>\n",
       "      <td>1</td>\n",
       "      <td>0</td>\n",
       "      <td>3</td>\n",
       "      <td>1</td>\n",
       "    </tr>\n",
       "    <tr>\n",
       "      <th>Hornet Sportabout</th>\n",
       "      <td>18.7</td>\n",
       "      <td>8</td>\n",
       "      <td>360.0</td>\n",
       "      <td>175</td>\n",
       "      <td>3.15</td>\n",
       "      <td>3.440</td>\n",
       "      <td>17.02</td>\n",
       "      <td>0</td>\n",
       "      <td>0</td>\n",
       "      <td>3</td>\n",
       "      <td>2</td>\n",
       "    </tr>\n",
       "  </tbody>\n",
       "</table>\n",
       "</div>"
      ],
      "text/plain": [
       "                    mpg  cyl   disp   hp  drat     wt   qsec  vs  am  gear  \\\n",
       "Mazda RX4          21.0    6  160.0  110  3.90  2.620  16.46   0   1     4   \n",
       "Mazda RX4 Wag      21.0    6  160.0  110  3.90  2.875  17.02   0   1     4   \n",
       "Datsun 710         22.8    4  108.0   93  3.85  2.320  18.61   1   1     4   \n",
       "Hornet 4 Drive     21.4    6  258.0  110  3.08  3.215  19.44   1   0     3   \n",
       "Hornet Sportabout  18.7    8  360.0  175  3.15  3.440  17.02   0   0     3   \n",
       "\n",
       "                   carb  \n",
       "Mazda RX4             4  \n",
       "Mazda RX4 Wag         4  \n",
       "Datsun 710            1  \n",
       "Hornet 4 Drive        1  \n",
       "Hornet Sportabout     2  "
      ]
     },
     "execution_count": 29,
     "metadata": {},
     "output_type": "execute_result"
    }
   ],
   "source": [
    "url = 'https://python-graph-gallery.com/wp-content/uploads/mtcars.csv'\n",
    "df = pd.read_csv(url)\n",
    "df = df.set_index('model')\n",
    "del df.index.name\n",
    "df.head()"
   ]
  },
  {
   "cell_type": "code",
   "execution_count": 33,
   "metadata": {},
   "outputs": [
    {
     "data": {
      "text/plain": [
       "{'icoord': [[35.0, 35.0, 45.0, 45.0],\n",
       "  [25.0, 25.0, 40.0, 40.0],\n",
       "  [15.0, 15.0, 32.5, 32.5],\n",
       "  [55.0, 55.0, 65.0, 65.0],\n",
       "  [75.0, 75.0, 85.0, 85.0],\n",
       "  [60.0, 60.0, 80.0, 80.0],\n",
       "  [145.0, 145.0, 155.0, 155.0],\n",
       "  [135.0, 135.0, 150.0, 150.0],\n",
       "  [125.0, 125.0, 142.5, 142.5],\n",
       "  [115.0, 115.0, 133.75, 133.75],\n",
       "  [105.0, 105.0, 124.375, 124.375],\n",
       "  [95.0, 95.0, 114.6875, 114.6875],\n",
       "  [70.0, 70.0, 104.84375, 104.84375],\n",
       "  [23.75, 23.75, 87.421875, 87.421875],\n",
       "  [5.0, 5.0, 55.5859375, 55.5859375],\n",
       "  [175.0, 175.0, 185.0, 185.0],\n",
       "  [205.0, 205.0, 215.0, 215.0],\n",
       "  [195.0, 195.0, 210.0, 210.0],\n",
       "  [225.0, 225.0, 235.0, 235.0],\n",
       "  [202.5, 202.5, 230.0, 230.0],\n",
       "  [180.0, 180.0, 216.25, 216.25],\n",
       "  [255.0, 255.0, 265.0, 265.0],\n",
       "  [245.0, 245.0, 260.0, 260.0],\n",
       "  [285.0, 285.0, 295.0, 295.0],\n",
       "  [275.0, 275.0, 290.0, 290.0],\n",
       "  [305.0, 305.0, 315.0, 315.0],\n",
       "  [282.5, 282.5, 310.0, 310.0],\n",
       "  [252.5, 252.5, 296.25, 296.25],\n",
       "  [198.125, 198.125, 274.375, 274.375],\n",
       "  [165.0, 165.0, 236.25, 236.25],\n",
       "  [30.29296875, 30.29296875, 200.625, 200.625]],\n",
       " 'dcoord': [[0.0, 5.147341546856977, 5.147341546856977, 0.0],\n",
       "  [0.0, 9.112382227245678, 9.112382227245678, 5.147341546856977],\n",
       "  [0.0, 14.562621281181839, 14.562621281181839, 9.112382227245678],\n",
       "  [0.0, 0.6153251173160401, 0.6153251173160401, 0.0],\n",
       "  [0.0, 1.5231546211727793, 1.5231546211727793, 0.0],\n",
       "  [0.6153251173160401,\n",
       "   15.479031429291936,\n",
       "   15.479031429291936,\n",
       "   1.5231546211727793],\n",
       "  [0.0, 8.65359029536296, 8.65359029536296, 0.0],\n",
       "  [0.0, 13.050592606529946, 13.050592606529946, 8.65359029536296],\n",
       "  [0.0, 17.233352310909694, 17.233352310909694, 13.050592606529946],\n",
       "  [0.0, 25.2715093408076, 25.2715093408076, 17.233352310909694],\n",
       "  [0.0, 33.607252337675675, 33.607252337675675, 25.2715093408076],\n",
       "  [0.0, 48.90954470574794, 48.90954470574794, 33.607252337675675],\n",
       "  [15.479031429291936,\n",
       "   52.03171053854448,\n",
       "   52.03171053854448,\n",
       "   48.90954470574794],\n",
       "  [14.562621281181839,\n",
       "   76.03854212503877,\n",
       "   76.03854212503877,\n",
       "   52.03171053854448],\n",
       "  [0.0, 92.26297674897457, 92.26297674897457, 76.03854212503877],\n",
       "  [0.0, 33.55086921377745, 33.55086921377745, 0.0],\n",
       "  [0.0, 0.9826494797230624, 0.9826494797230624, 0.0],\n",
       "  [0.0, 1.7554828500043063, 1.7554828500043063, 0.9826494797230624],\n",
       "  [0.0, 14.015499455959462, 14.015499455959462, 0.0],\n",
       "  [1.7554828500043063,\n",
       "   46.51140795542569,\n",
       "   46.51140795542569,\n",
       "   14.015499455959462],\n",
       "  [33.55086921377745, 81.7859016028178, 81.7859016028178, 46.51140795542569],\n",
       "  [0.0, 15.622444623041554, 15.622444623041554, 0.0],\n",
       "  [0.0, 33.10569364296653, 33.10569364296653, 15.622444623041554],\n",
       "  [0.0, 10.07612028510974, 10.07612028510974, 0.0],\n",
       "  [0.0, 20.312250662714625, 20.312250662714625, 10.07612028510974],\n",
       "  [0.0, 40.00524746830096, 40.00524746830096, 0.0],\n",
       "  [20.312250662714625, 83.257990051015, 83.257990051015, 40.00524746830096],\n",
       "  [33.10569364296653, 101.98035259339244, 101.98035259339244, 83.257990051015],\n",
       "  [81.7859016028178, 149.1268505650555, 149.1268505650555, 101.98035259339244],\n",
       "  [0.0, 170.61416292833002, 170.61416292833002, 149.1268505650555],\n",
       "  [92.26297674897457,\n",
       "   245.07444456093148,\n",
       "   245.07444456093148,\n",
       "   170.61416292833002]],\n",
       " 'ivl': ['Ferrari Dino',\n",
       "  'Honda Civic',\n",
       "  'Toyota Corolla',\n",
       "  'Fiat 128',\n",
       "  'Fiat X1-9',\n",
       "  'Mazda RX4',\n",
       "  'Mazda RX4 Wag',\n",
       "  'Merc 280',\n",
       "  'Merc 280C',\n",
       "  'Merc 240D',\n",
       "  'Lotus Europa',\n",
       "  'Merc 230',\n",
       "  'Volvo 142E',\n",
       "  'Datsun 710',\n",
       "  'Toyota Corona',\n",
       "  'Porsche 914-2',\n",
       "  'Maserati Bora',\n",
       "  'Hornet 4 Drive',\n",
       "  'Valiant',\n",
       "  'Merc 450SLC',\n",
       "  'Merc 450SE',\n",
       "  'Merc 450SL',\n",
       "  'Dodge Challenger',\n",
       "  'AMC Javelin',\n",
       "  'Chrysler Imperial',\n",
       "  'Cadillac Fleetwood',\n",
       "  'Lincoln Continental',\n",
       "  'Ford Pantera L',\n",
       "  'Duster 360',\n",
       "  'Camaro Z28',\n",
       "  'Hornet Sportabout',\n",
       "  'Pontiac Firebird'],\n",
       " 'leaves': [29,\n",
       "  18,\n",
       "  19,\n",
       "  17,\n",
       "  25,\n",
       "  0,\n",
       "  1,\n",
       "  9,\n",
       "  10,\n",
       "  7,\n",
       "  27,\n",
       "  8,\n",
       "  31,\n",
       "  2,\n",
       "  20,\n",
       "  26,\n",
       "  30,\n",
       "  3,\n",
       "  5,\n",
       "  13,\n",
       "  11,\n",
       "  12,\n",
       "  21,\n",
       "  22,\n",
       "  16,\n",
       "  14,\n",
       "  15,\n",
       "  28,\n",
       "  6,\n",
       "  23,\n",
       "  4,\n",
       "  24],\n",
       " 'color_list': ['g',\n",
       "  'g',\n",
       "  'g',\n",
       "  'g',\n",
       "  'g',\n",
       "  'g',\n",
       "  'g',\n",
       "  'g',\n",
       "  'g',\n",
       "  'g',\n",
       "  'g',\n",
       "  'g',\n",
       "  'g',\n",
       "  'g',\n",
       "  'g',\n",
       "  'r',\n",
       "  'r',\n",
       "  'r',\n",
       "  'r',\n",
       "  'r',\n",
       "  'r',\n",
       "  'r',\n",
       "  'r',\n",
       "  'r',\n",
       "  'r',\n",
       "  'r',\n",
       "  'r',\n",
       "  'r',\n",
       "  'r',\n",
       "  'r',\n",
       "  'b']}"
      ]
     },
     "execution_count": 33,
     "metadata": {},
     "output_type": "execute_result"
    },
    {
     "data": {
      "image/png": "[encoded data removed]",
      "text/plain": [
       "<Figure size 432x288 with 1 Axes>"
      ]
     },
     "metadata": {
      "needs_background": "light"
     },
     "output_type": "display_data"
    }
   ],
   "source": [
    "Z = linkage(df, 'average')\n",
    "dendrogram(Z, labels = df.index, leaf_rotation = 90)"
   ]
  },
  {
   "cell_type": "markdown",
   "metadata": {},
   "source": [
    "## Hierarchical Clustering"
   ]
  },
  {
   "cell_type": "code",
   "execution_count": 35,
   "metadata": {},
   "outputs": [],
   "source": [
    "import pandas as pd\n",
    "from matplotlib import pyplot as plt\n",
    "from scipy.cluster.hierarchy import dendrogram, linkage\n",
    "import numpy as np"
   ]
  },
  {
   "cell_type": "code",
   "execution_count": 34,
   "metadata": {},
   "outputs": [
    {
     "data": {
      "text/plain": [
       "(10, 2)"
      ]
     },
     "execution_count": 34,
     "metadata": {},
     "output_type": "execute_result"
    }
   ],
   "source": [
    "X = np.array([[5, 3], [10, 15], [15, 12], [24, 10], [30, 30], [85, 70], [71, 80], [60, 78], [70, 55], [80, 91]])\n",
    "X.shape"
   ]
  },
  {
   "cell_type": "code",
   "execution_count": 39,
   "metadata": {},
   "outputs": [
    {
     "data": {
      "image/png": "[encoded data removed]",
      "text/plain": [
       "<Figure size 576x576 with 1 Axes>"
      ]
     },
     "metadata": {
      "needs_background": "light"
     },
     "output_type": "display_data"
    }
   ],
   "source": [
    "#scatter_plot\n",
    "labels = range(1, 11)\n",
    "plt.figure(figsize = (8, 8))\n",
    "\n",
    "plt.scatter(X[:, 0], X[:, 1], label = 'True Position')\n",
    "\n",
    "for label, x, y in zip(labels, X[:, 0], X[:, 1]):\n",
    "    plt.annotate(label, xy = (x, y), xytext = (-3, 3), textcoords = 'offset points')\n",
    "plt.show()"
   ]
  },
  {
   "cell_type": "code",
   "execution_count": 41,
   "metadata": {},
   "outputs": [
    {
     "data": {
      "text/plain": [
       "{'icoord': [[35.0, 35.0, 45.0, 45.0],\n",
       "  [25.0, 25.0, 40.0, 40.0],\n",
       "  [15.0, 15.0, 32.5, 32.5],\n",
       "  [5.0, 5.0, 23.75, 23.75],\n",
       "  [85.0, 85.0, 95.0, 95.0],\n",
       "  [75.0, 75.0, 90.0, 90.0],\n",
       "  [65.0, 65.0, 82.5, 82.5],\n",
       "  [55.0, 55.0, 73.75, 73.75],\n",
       "  [14.375, 14.375, 64.375, 64.375]],\n",
       " 'dcoord': [[0.0, 5.830951894845301, 5.830951894845301, 0.0],\n",
       "  [0.0, 9.219544457292887, 9.219544457292887, 5.830951894845301],\n",
       "  [0.0, 13.0, 13.0, 9.219544457292887],\n",
       "  [0.0, 20.8806130178211, 20.8806130178211, 13.0],\n",
       "  [0.0, 11.180339887498949, 11.180339887498949, 0.0],\n",
       "  [0.0, 14.212670403551895, 14.212670403551895, 11.180339887498949],\n",
       "  [0.0, 17.204650534085253, 17.204650534085253, 14.212670403551895],\n",
       "  [0.0, 21.213203435596427, 21.213203435596427, 17.204650534085253],\n",
       "  [20.8806130178211,\n",
       "   47.16990566028302,\n",
       "   47.16990566028302,\n",
       "   21.213203435596427]],\n",
       " 'ivl': [5, 1, 4, 2, 3, 9, 6, 10, 7, 8],\n",
       " 'leaves': [4, 0, 3, 1, 2, 8, 5, 9, 6, 7],\n",
       " 'color_list': ['g', 'g', 'g', 'g', 'r', 'r', 'r', 'r', 'b']}"
      ]
     },
     "execution_count": 41,
     "metadata": {},
     "output_type": "execute_result"
    },
    {
     "data": {
      "image/png": "[encoded data removed]",
      "text/plain": [
       "<Figure size 432x288 with 1 Axes>"
      ]
     },
     "metadata": {
      "needs_background": "light"
     },
     "output_type": "display_data"
    }
   ],
   "source": [
    "Z = linkage(X, 'single')\n",
    "dendrogram(Z, leaf_rotation = 90, labels = labels)"
   ]
  },
  {
   "cell_type": "markdown",
   "metadata": {},
   "source": [
    "## Agglomerative_Clustering"
   ]
  },
  {
   "cell_type": "code",
   "execution_count": null,
   "metadata": {},
   "outputs": [],
   "source": [
    "import scipy.cluster.hierarchy as sch"
   ]
  },
  {
   "cell_type": "code",
   "execution_count": null,
   "metadata": {},
   "outputs": [],
   "source": [
    "X = np.array([[5, 3], [10, 15], [15, 12], [24, 10], [30, 30], [85, 70], [71, 80], [60, 78], [70, 55], [80, 91]])"
   ]
  },
  {
   "cell_type": "code",
   "execution_count": 54,
   "metadata": {},
   "outputs": [
    {
     "data": {
      "image/png": "[encoded data removed]",
      "text/plain": [
       "<Figure size 432x288 with 1 Axes>"
      ]
     },
     "metadata": {
      "needs_background": "light"
     },
     "output_type": "display_data"
    }
   ],
   "source": [
    "dendrogram = sch.dendrogram(sch.linkage(X, method = 'ward'), labels= labels)"
   ]
  },
  {
   "cell_type": "code",
   "execution_count": 50,
   "metadata": {},
   "outputs": [],
   "source": [
    "from sklearn.cluster import AgglomerativeClustering"
   ]
  },
  {
   "cell_type": "code",
   "execution_count": 51,
   "metadata": {},
   "outputs": [
    {
     "data": {
      "text/plain": [
       "array([1, 1, 1, 1, 1, 0, 0, 0, 0, 0], dtype=int64)"
      ]
     },
     "execution_count": 51,
     "metadata": {},
     "output_type": "execute_result"
    }
   ],
   "source": [
    "cluster = AgglomerativeClustering(linkage = 'ward')\n",
    "cluster.fit_predict(X)"
   ]
  },
  {
   "cell_type": "code",
   "execution_count": 52,
   "metadata": {},
   "outputs": [
    {
     "name": "stdout",
     "output_type": "stream",
     "text": [
      "[1 1 1 1 1 0 0 0 0 0]\n",
      "2\n"
     ]
    }
   ],
   "source": [
    "print(cluster.labels_)\n",
    "print(cluster.n_clusters)"
   ]
  }
 ],
 "metadata": {
  "kernelspec": {
   "display_name": "Python 3",
   "language": "python",
   "name": "python3"
  },
  "language_info": {
   "codemirror_mode": {
    "name": "ipython",
    "version": 3
   },
   "file_extension": ".py",
   "mimetype": "text/x-python",
   "name": "python",
   "nbconvert_exporter": "python",
   "pygments_lexer": "ipython3",
   "version": "3.7.1"
  }
 },
 "nbformat": 4,
 "nbformat_minor": 2
}
